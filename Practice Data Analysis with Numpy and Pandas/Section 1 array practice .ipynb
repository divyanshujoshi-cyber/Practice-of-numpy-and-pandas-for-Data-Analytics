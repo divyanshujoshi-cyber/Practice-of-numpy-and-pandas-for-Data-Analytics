{
 "cells": [
  {
   "cell_type": "code",
   "execution_count": 35,
   "id": "f40a4667-8ce2-41fb-b212-305ec33a979d",
   "metadata": {},
   "outputs": [],
   "source": [
    "import numpy as np"
   ]
  },
  {
   "cell_type": "code",
   "execution_count": 36,
   "id": "ea9a76e4",
   "metadata": {},
   "outputs": [
    {
     "data": {
      "text/plain": [
       "array([   0,    5,  155,    0,  518,    0, 1827,  616,  317,  325])"
      ]
     },
     "execution_count": 36,
     "metadata": {},
     "output_type": "execute_result"
    }
   ],
   "source": [
    "#one dimensional array\n",
    "sales = [0, 5, 155, 0, 518, 0, 1827, 616, 317, 325]\n",
    "\n",
    "sales_array = np.array(sales)\n",
    "sales_array\n"
   ]
  },
  {
   "cell_type": "code",
   "execution_count": 54,
   "id": "7868fe0c",
   "metadata": {},
   "outputs": [
    {
     "name": "stdout",
     "output_type": "stream",
     "text": [
      "ndim: 2\n",
      "shape: (2, 5)\n",
      "size: 10\n",
      "dtype: int32\n",
      "ndim: 2\n"
     ]
    }
   ],
   "source": [
    "print(f\"ndim: {sales_array.ndim}\")\n",
    "print(f\"shape: {sales_array.shape}\")\n",
    "print(f\"size: {sales_array.size}\")\n",
    "print(f\"dtype: {sales_array.dtype}\")\n",
    "print(f\"ndim: {sales_array.ndim}\")"
   ]
  },
  {
   "cell_type": "code",
   "execution_count": 55,
   "id": "895d3e29",
   "metadata": {},
   "outputs": [
    {
     "data": {
      "text/plain": [
       "array([[   0,    5,  155,    0,  518],\n",
       "       [   0, 1827,  616,  317,  325]])"
      ]
     },
     "execution_count": 55,
     "metadata": {},
     "output_type": "execute_result"
    }
   ],
   "source": [
    "#two dimensional array\n",
    "sales = [0, 5, 155, 0, 518], [0, 1827, 616, 317, 325]\n",
    "\n",
    "sales_array = np.array(sales)\n",
    "sales_array\n"
   ]
  },
  {
   "cell_type": "code",
   "execution_count": 56,
   "id": "d9df9192",
   "metadata": {},
   "outputs": [
    {
     "name": "stdout",
     "output_type": "stream",
     "text": [
      "ndim: 2\n",
      "shape: (2, 5)\n",
      "size: 10\n",
      "dtype: int32\n",
      "ndim: 2\n"
     ]
    }
   ],
   "source": [
    "print(f\"ndim: {sales_array.ndim}\")\n",
    "print(f\"shape: {sales_array.shape}\")\n",
    "print(f\"size: {sales_array.size}\")\n",
    "print(f\"dtype: {sales_array.dtype}\")\n",
    "print(f\"ndim: {sales_array.ndim}\")"
   ]
  },
  {
   "cell_type": "code",
   "execution_count": 57,
   "id": "85cd8d3e",
   "metadata": {},
   "outputs": [
    {
     "data": {
      "text/plain": [
       "array([0, 1, 2, 3, 4])"
      ]
     },
     "execution_count": 57,
     "metadata": {},
     "output_type": "execute_result"
    }
   ],
   "source": [
    "#example one dimensional\n",
    "array = np.array(range(5))\n",
    "array"
   ]
  },
  {
   "cell_type": "code",
   "execution_count": 58,
   "id": "0ad5fae1",
   "metadata": {},
   "outputs": [
    {
     "data": {
      "text/plain": [
       "array([[0, 1, 2, 3, 4],\n",
       "       [0, 1, 2, 3, 4]])"
      ]
     },
     "execution_count": 58,
     "metadata": {},
     "output_type": "execute_result"
    }
   ],
   "source": [
    "#two dimensonal\n",
    "array2d = np.array([range(5), range(5)])\n",
    "array2d "
   ]
  },
  {
   "cell_type": "code",
   "execution_count": 59,
   "id": "c7725001",
   "metadata": {},
   "outputs": [
    {
     "data": {
      "text/plain": [
       "(2, (2, 5), dtype('int32'), 10)"
      ]
     },
     "execution_count": 59,
     "metadata": {},
     "output_type": "execute_result"
    }
   ],
   "source": [
    "array2d.ndim , array2d.shape, array2d.dtype, array2d.size"
   ]
  },
  {
   "cell_type": "code",
   "execution_count": 60,
   "id": "03fa052b",
   "metadata": {},
   "outputs": [
    {
     "data": {
      "text/plain": [
       "(1, (5,), dtype('int32'), 5)"
      ]
     },
     "execution_count": 60,
     "metadata": {},
     "output_type": "execute_result"
    }
   ],
   "source": [
    "array.ndim , array.shape, array.dtype, array.size"
   ]
  },
  {
   "cell_type": "code",
   "execution_count": 61,
   "id": "c2a2ab3c",
   "metadata": {},
   "outputs": [
    {
     "data": {
      "text/plain": [
       "array(['i', 'love', 'python'], dtype='<U6')"
      ]
     },
     "execution_count": 61,
     "metadata": {},
     "output_type": "execute_result"
    }
   ],
   "source": [
    "np.array(['i', 'love', 'python'])"
   ]
  },
  {
   "cell_type": "code",
   "execution_count": 62,
   "id": "76410c6f",
   "metadata": {},
   "outputs": [],
   "source": [
    "#array creation"
   ]
  },
  {
   "cell_type": "code",
   "execution_count": 63,
   "id": "cb3f7d3f",
   "metadata": {},
   "outputs": [
    {
     "data": {
      "text/plain": [
       "array([1, 1, 1, 1])"
      ]
     },
     "execution_count": 63,
     "metadata": {},
     "output_type": "execute_result"
    }
   ],
   "source": [
    "#np.one((rows,col),dtype)\n",
    "\n",
    "np.ones(4,int)"
   ]
  },
  {
   "cell_type": "code",
   "execution_count": 165,
   "id": "c31cbf31",
   "metadata": {},
   "outputs": [
    {
     "data": {
      "text/plain": [
       "array([[[2., 2., 2.],\n",
       "        [2., 2., 2.],\n",
       "        [2., 2., 2.]],\n",
       "\n",
       "       [[2., 2., 2.],\n",
       "        [2., 2., 2.],\n",
       "        [2., 2., 2.]]])"
      ]
     },
     "execution_count": 165,
     "metadata": {},
     "output_type": "execute_result"
    }
   ],
   "source": [
    "np.ones((2,3,3),dtype=int) + np.ones(3)"
   ]
  },
  {
   "cell_type": "code",
   "execution_count": 65,
   "id": "e666b7d8",
   "metadata": {},
   "outputs": [
    {
     "data": {
      "text/plain": [
       "array([0, 1, 2, 3, 4, 5, 6, 7, 8, 9])"
      ]
     },
     "execution_count": 65,
     "metadata": {},
     "output_type": "execute_result"
    }
   ],
   "source": [
    "#np.arange(start,stop,step)\n",
    "\n",
    "np.arange(10)"
   ]
  },
  {
   "cell_type": "code",
   "execution_count": 66,
   "id": "5ff1b6f2",
   "metadata": {},
   "outputs": [
    {
     "data": {
      "text/plain": [
       "array([ 1,  4,  7, 10])"
      ]
     },
     "execution_count": 66,
     "metadata": {},
     "output_type": "execute_result"
    }
   ],
   "source": [
    "#stop is exclusive\n",
    "np.arange(1,10,2)\n",
    "np.arange(1,12,3)\n"
   ]
  },
  {
   "cell_type": "code",
   "execution_count": 67,
   "id": "09d136b5",
   "metadata": {},
   "outputs": [
    {
     "data": {
      "text/plain": [
       "array([ 9., 18., 27., 36., 45., 54., 63., 72., 81.])"
      ]
     },
     "execution_count": 67,
     "metadata": {},
     "output_type": "execute_result"
    }
   ],
   "source": [
    "#np.linspace(start,stop,n) print one the n number of digits\n",
    "#stop is inclusive\n",
    "\n",
    "np.linspace(9,81,9)"
   ]
  },
  {
   "cell_type": "code",
   "execution_count": 68,
   "id": "58919866",
   "metadata": {},
   "outputs": [
    {
     "data": {
      "text/plain": [
       "array([[1, 3],\n",
       "       [5, 7]])"
      ]
     },
     "execution_count": 68,
     "metadata": {},
     "output_type": "execute_result"
    }
   ],
   "source": [
    "#np.array.reshape(rows,col)\n",
    "\n",
    "np.arange(1,9,2).reshape(2,2)"
   ]
  },
  {
   "cell_type": "code",
   "execution_count": 69,
   "id": "50768af7",
   "metadata": {},
   "outputs": [
    {
     "data": {
      "text/plain": [
       "array([[0, 0, 0, 0, 0, 0, 0, 0, 0, 0, 0, 0, 0, 0, 0, 0, 0, 0, 0, 0],\n",
       "       [0, 0, 0, 0, 0, 0, 0, 0, 0, 0, 0, 0, 0, 0, 0, 0, 0, 0, 0, 0],\n",
       "       [0, 0, 0, 0, 0, 0, 0, 0, 0, 0, 0, 0, 0, 0, 0, 0, 0, 0, 0, 0],\n",
       "       [0, 0, 0, 0, 0, 0, 0, 0, 0, 0, 0, 0, 0, 0, 0, 0, 0, 0, 0, 0],\n",
       "       [0, 0, 0, 0, 0, 0, 0, 0, 0, 0, 0, 0, 0, 0, 0, 0, 0, 0, 0, 0],\n",
       "       [0, 0, 0, 0, 0, 0, 0, 0, 0, 0, 0, 0, 0, 0, 0, 0, 0, 0, 0, 0]])"
      ]
     },
     "execution_count": 69,
     "metadata": {},
     "output_type": "execute_result"
    }
   ],
   "source": [
    "np.zeros((6,20),int)"
   ]
  },
  {
   "cell_type": "code",
   "execution_count": 70,
   "id": "fcbb5c93",
   "metadata": {},
   "outputs": [
    {
     "data": {
      "text/plain": [
       "array([[1., 0., 0.],\n",
       "       [0., 1., 0.],\n",
       "       [0., 0., 1.]])"
      ]
     },
     "execution_count": 70,
     "metadata": {},
     "output_type": "execute_result"
    }
   ],
   "source": [
    "np.identity(3)"
   ]
  },
  {
   "cell_type": "code",
   "execution_count": 71,
   "id": "2b094268",
   "metadata": {},
   "outputs": [
    {
     "data": {
      "text/plain": [
       "array([0.39682145])"
      ]
     },
     "execution_count": 71,
     "metadata": {},
     "output_type": "execute_result"
    }
   ],
   "source": [
    "rng = np.random.default_rng(616)\n",
    "rng.random(1)"
   ]
  },
  {
   "cell_type": "code",
   "execution_count": 72,
   "id": "8e0d1ec9",
   "metadata": {},
   "outputs": [
    {
     "data": {
      "text/plain": [
       "array([9, 8, 4, 4, 4, 3, 1, 5, 6, 0, 1, 8, 0, 7, 3, 7, 9, 5, 8, 3, 6, 0,\n",
       "       3, 3, 1, 2, 2, 4, 9, 1, 2, 5, 1, 8, 9, 0, 3, 1, 5, 8, 0, 6, 1, 7,\n",
       "       0, 7, 6, 0, 3, 7, 1, 9, 4, 1, 6, 1, 4, 4, 9, 5, 3, 4, 7, 8, 3, 3,\n",
       "       5, 0, 4, 9, 9, 5, 6, 5, 8, 2, 3, 0, 0, 8, 3, 8, 4, 8, 8, 9, 7, 3,\n",
       "       8, 4, 9, 2, 6, 3, 0, 3, 2, 0, 0, 4], dtype=int64)"
      ]
     },
     "execution_count": 72,
     "metadata": {},
     "output_type": "execute_result"
    }
   ],
   "source": [
    "rng.integers(0,10,100)"
   ]
  },
  {
   "cell_type": "code",
   "execution_count": 73,
   "id": "493c9097",
   "metadata": {},
   "outputs": [
    {
     "data": {
      "text/plain": [
       "array([[43.66324209, 51.53596392],\n",
       "       [47.70105975, 48.70709975],\n",
       "       [58.79869416, 47.36546164],\n",
       "       [50.41694017, 47.18838872],\n",
       "       [50.68654664, 53.53115044]])"
      ]
     },
     "execution_count": 73,
     "metadata": {},
     "output_type": "execute_result"
    }
   ],
   "source": [
    "rng.normal(50,5,10).reshape(5,2)"
   ]
  },
  {
   "cell_type": "code",
   "execution_count": 74,
   "id": "20bd112b",
   "metadata": {},
   "outputs": [
    {
     "data": {
      "text/plain": [
       "array([ 1,  2,  3,  4,  5,  6,  7,  8,  9, 10, 11, 12])"
      ]
     },
     "execution_count": 74,
     "metadata": {},
     "output_type": "execute_result"
    }
   ],
   "source": [
    "#indexing and slicing one dimensional array\n",
    "integer_array = np.arange(1,13)\n",
    "integer_array"
   ]
  },
  {
   "cell_type": "code",
   "execution_count": 75,
   "id": "5157ac07",
   "metadata": {},
   "outputs": [
    {
     "data": {
      "text/plain": [
       "2"
      ]
     },
     "execution_count": 75,
     "metadata": {},
     "output_type": "execute_result"
    }
   ],
   "source": [
    "integer_array[1]\n"
   ]
  },
  {
   "cell_type": "code",
   "execution_count": 76,
   "id": "932d8ce8",
   "metadata": {},
   "outputs": [
    {
     "data": {
      "text/plain": [
       "12"
      ]
     },
     "execution_count": 76,
     "metadata": {},
     "output_type": "execute_result"
    }
   ],
   "source": [
    "integer_array[-1]"
   ]
  },
  {
   "cell_type": "code",
   "execution_count": 77,
   "id": "4d20114f",
   "metadata": {},
   "outputs": [
    {
     "data": {
      "text/plain": [
       "array([1, 2, 3, 4, 5])"
      ]
     },
     "execution_count": 77,
     "metadata": {},
     "output_type": "execute_result"
    }
   ],
   "source": [
    "integer_array[:5]"
   ]
  },
  {
   "cell_type": "code",
   "execution_count": 78,
   "id": "6584c093",
   "metadata": {},
   "outputs": [
    {
     "data": {
      "text/plain": [
       "array([3, 4, 5])"
      ]
     },
     "execution_count": 78,
     "metadata": {},
     "output_type": "execute_result"
    }
   ],
   "source": [
    "integer_array[2:5]"
   ]
  },
  {
   "cell_type": "code",
   "execution_count": 79,
   "id": "aefabcea",
   "metadata": {},
   "outputs": [
    {
     "data": {
      "text/plain": [
       "array([ 2,  4,  6,  8, 10])"
      ]
     },
     "execution_count": 79,
     "metadata": {},
     "output_type": "execute_result"
    }
   ],
   "source": [
    "integer_array[1:10:2]"
   ]
  },
  {
   "cell_type": "code",
   "execution_count": 80,
   "id": "86802aa6",
   "metadata": {},
   "outputs": [
    {
     "data": {
      "text/plain": [
       "array([ 2,  4,  6,  8, 10, 12])"
      ]
     },
     "execution_count": 80,
     "metadata": {},
     "output_type": "execute_result"
    }
   ],
   "source": [
    "integer_array[1::2]"
   ]
  },
  {
   "cell_type": "code",
   "execution_count": 81,
   "id": "dba86af4",
   "metadata": {},
   "outputs": [
    {
     "data": {
      "text/plain": [
       "array([1, 3, 5])"
      ]
     },
     "execution_count": 81,
     "metadata": {},
     "output_type": "execute_result"
    }
   ],
   "source": [
    "integer_array[:5:2]"
   ]
  },
  {
   "cell_type": "code",
   "execution_count": 82,
   "id": "0fa6ba08",
   "metadata": {},
   "outputs": [
    {
     "data": {
      "text/plain": [
       "array([ 6,  7,  8,  9, 10, 11, 12])"
      ]
     },
     "execution_count": 82,
     "metadata": {},
     "output_type": "execute_result"
    }
   ],
   "source": [
    "integer_array[5:]"
   ]
  },
  {
   "cell_type": "code",
   "execution_count": 83,
   "id": "8f861f6c",
   "metadata": {},
   "outputs": [
    {
     "data": {
      "text/plain": [
       "array([ 1,  2,  3,  4,  5,  6,  7,  8,  9, 10, 11, 12])"
      ]
     },
     "execution_count": 83,
     "metadata": {},
     "output_type": "execute_result"
    }
   ],
   "source": [
    "integer_array[:]"
   ]
  },
  {
   "cell_type": "code",
   "execution_count": 84,
   "id": "95f6e5a6",
   "metadata": {},
   "outputs": [
    {
     "data": {
      "text/plain": [
       "array([[ 1,  2,  3,  4],\n",
       "       [ 5,  6,  7,  8],\n",
       "       [ 9, 10, 11, 12]])"
      ]
     },
     "execution_count": 84,
     "metadata": {},
     "output_type": "execute_result"
    }
   ],
   "source": [
    "#indexing and slicing two dimesional array\n",
    "new_array = integer_array.reshape(3,4)\n",
    "\n",
    "new_array"
   ]
  },
  {
   "cell_type": "code",
   "execution_count": 140,
   "id": "2c651ba7",
   "metadata": {},
   "outputs": [
    {
     "data": {
      "text/plain": [
       "array([ 2,  6, 10])"
      ]
     },
     "execution_count": 140,
     "metadata": {},
     "output_type": "execute_result"
    }
   ],
   "source": [
    "new_array[:,1]"
   ]
  },
  {
   "cell_type": "code",
   "execution_count": 85,
   "id": "860d3b03",
   "metadata": {},
   "outputs": [
    {
     "data": {
      "text/plain": [
       "array([[ 1,  2,  3,  4],\n",
       "       [ 5,  6,  7,  8],\n",
       "       [ 9, 10, 11, 12]])"
      ]
     },
     "execution_count": 85,
     "metadata": {},
     "output_type": "execute_result"
    }
   ],
   "source": [
    "new_array[:,:]"
   ]
  },
  {
   "cell_type": "code",
   "execution_count": 86,
   "id": "df9c8729",
   "metadata": {},
   "outputs": [
    {
     "data": {
      "text/plain": [
       "array([[1, 2, 3, 4]])"
      ]
     },
     "execution_count": 86,
     "metadata": {},
     "output_type": "execute_result"
    }
   ],
   "source": [
    "new_array[:1,:]"
   ]
  },
  {
   "cell_type": "code",
   "execution_count": 87,
   "id": "c469515d",
   "metadata": {},
   "outputs": [
    {
     "data": {
      "text/plain": [
       "array([[ 4],\n",
       "       [ 8],\n",
       "       [12]])"
      ]
     },
     "execution_count": 87,
     "metadata": {},
     "output_type": "execute_result"
    }
   ],
   "source": [
    "new_array[:,3:]"
   ]
  },
  {
   "cell_type": "code",
   "execution_count": 88,
   "id": "f29ad6c7",
   "metadata": {},
   "outputs": [
    {
     "data": {
      "text/plain": [
       "array([[5, 6, 7, 8]])"
      ]
     },
     "execution_count": 88,
     "metadata": {},
     "output_type": "execute_result"
    }
   ],
   "source": [
    "new_array[1:2,:]"
   ]
  },
  {
   "cell_type": "code",
   "execution_count": 89,
   "id": "5264c404",
   "metadata": {},
   "outputs": [
    {
     "data": {
      "text/plain": [
       "array([ 3,  7, 11])"
      ]
     },
     "execution_count": 89,
     "metadata": {},
     "output_type": "execute_result"
    }
   ],
   "source": [
    "new_array[:,2]"
   ]
  },
  {
   "cell_type": "code",
   "execution_count": 90,
   "id": "1630a532",
   "metadata": {},
   "outputs": [
    {
     "data": {
      "text/plain": [
       "array([[ 5,  6,  7,  8],\n",
       "       [ 9, 10, 11, 12]])"
      ]
     },
     "execution_count": 90,
     "metadata": {},
     "output_type": "execute_result"
    }
   ],
   "source": [
    "new_array[1:3,:]"
   ]
  },
  {
   "cell_type": "code",
   "execution_count": 91,
   "id": "cc7d0555",
   "metadata": {},
   "outputs": [
    {
     "data": {
      "text/plain": [
       "array([[ 1,  2,  3,  4],\n",
       "       [ 9, 10, 11, 12]])"
      ]
     },
     "execution_count": 91,
     "metadata": {},
     "output_type": "execute_result"
    }
   ],
   "source": [
    "new_array[0:3:2,:]"
   ]
  },
  {
   "cell_type": "code",
   "execution_count": 92,
   "id": "6c576614",
   "metadata": {},
   "outputs": [
    {
     "data": {
      "text/plain": [
       "array([[ 1,  3],\n",
       "       [ 5,  7],\n",
       "       [ 9, 11]])"
      ]
     },
     "execution_count": 92,
     "metadata": {},
     "output_type": "execute_result"
    }
   ],
   "source": [
    "new_array[:,0:3:2]"
   ]
  },
  {
   "cell_type": "code",
   "execution_count": 93,
   "id": "e74d8791",
   "metadata": {},
   "outputs": [
    {
     "data": {
      "text/plain": [
       "10"
      ]
     },
     "execution_count": 93,
     "metadata": {},
     "output_type": "execute_result"
    }
   ],
   "source": [
    "new_array[2,1]"
   ]
  },
  {
   "cell_type": "code",
   "execution_count": 94,
   "id": "1af3087c",
   "metadata": {},
   "outputs": [
    {
     "data": {
      "text/plain": [
       "array([39, 39, 93, 86, 48, 46, 48, 30, 11, 57], dtype=int64)"
      ]
     },
     "execution_count": 94,
     "metadata": {},
     "output_type": "execute_result"
    }
   ],
   "source": [
    "#arithematic operators\n",
    "rng = np.random.default_rng(616)\n",
    "inventory = rng.integers(0,100,10)\n",
    "inventory "
   ]
  },
  {
   "cell_type": "code",
   "execution_count": 95,
   "id": "29bc1d69",
   "metadata": {},
   "outputs": [
    {
     "data": {
      "text/plain": [
       "array([ 15,  15,  69,  62,  24,  22,  24,   6, -13,  33], dtype=int64)"
      ]
     },
     "execution_count": 95,
     "metadata": {},
     "output_type": "execute_result"
    }
   ],
   "source": [
    "inventory - 24"
   ]
  },
  {
   "cell_type": "code",
   "execution_count": 96,
   "id": "f707153e",
   "metadata": {},
   "outputs": [
    {
     "data": {
      "text/plain": [
       "array([19.5, 19.5, 46.5, 43. , 24. , 23. , 24. , 15. ,  5.5, 28.5])"
      ]
     },
     "execution_count": 96,
     "metadata": {},
     "output_type": "execute_result"
    }
   ],
   "source": [
    "inventory/2"
   ]
  },
  {
   "cell_type": "code",
   "execution_count": 97,
   "id": "9dc49def",
   "metadata": {},
   "outputs": [
    {
     "data": {
      "text/plain": [
       "array([0.89, 8.82, 7.32, 7.32, 5.62, 3.4 , 0.63, 3.57, 2.03, 4.31])"
      ]
     },
     "execution_count": 97,
     "metadata": {},
     "output_type": "execute_result"
    }
   ],
   "source": [
    "price = (rng.random(10) * 10).round(2)\n",
    "price"
   ]
  },
  {
   "cell_type": "code",
   "execution_count": 98,
   "id": "31d15839",
   "metadata": {},
   "outputs": [
    {
     "data": {
      "text/plain": [
       "2520.4700000000003"
      ]
     },
     "execution_count": 98,
     "metadata": {},
     "output_type": "execute_result"
    }
   ],
   "source": [
    "(price*inventory).sum()"
   ]
  },
  {
   "cell_type": "code",
   "execution_count": 99,
   "id": "96d75e87",
   "metadata": {},
   "outputs": [
    {
     "data": {
      "text/plain": [
       "[39, 39, 93, 86, 48, 46, 48, 30, 11, 57]"
      ]
     },
     "execution_count": 99,
     "metadata": {},
     "output_type": "execute_result"
    }
   ],
   "source": [
    "inventory_list = list(inventory)\n",
    "inventory_list"
   ]
  },
  {
   "cell_type": "code",
   "execution_count": 100,
   "id": "206d1b59",
   "metadata": {},
   "outputs": [
    {
     "data": {
      "text/plain": [
       "array([ 0,  1,  2,  3,  4,  5,  6,  7,  8,  9, 10, 11, 12, 13, 14, 15, 16,\n",
       "       17, 18, 19])"
      ]
     },
     "execution_count": 100,
     "metadata": {},
     "output_type": "execute_result"
    }
   ],
   "source": [
    "my_array = np.arange(20)\n",
    "my_array"
   ]
  },
  {
   "cell_type": "code",
   "execution_count": 170,
   "id": "c9a3686a",
   "metadata": {
    "scrolled": true
   },
   "outputs": [
    {
     "data": {
      "text/plain": [
       "array([0, 1, 2, 3, 4])"
      ]
     },
     "execution_count": 170,
     "metadata": {},
     "output_type": "execute_result"
    }
   ],
   "source": [
    "#filtering arrays \n",
    "sales_array = np.arange(5)\n",
    "sales_array"
   ]
  },
  {
   "cell_type": "code",
   "execution_count": 172,
   "id": "aeb9b342",
   "metadata": {},
   "outputs": [],
   "source": [
    "product_array = ['fruits','vegetables','cereal', 'dairy', 'eggs']\n",
    "product_array = np.array(product_array)"
   ]
  },
  {
   "cell_type": "code",
   "execution_count": 178,
   "id": "d05cee23",
   "metadata": {},
   "outputs": [
    {
     "data": {
      "text/plain": [
       "array(['dairy', 'eggs'], dtype='<U10')"
      ]
     },
     "execution_count": 178,
     "metadata": {},
     "output_type": "execute_result"
    }
   ],
   "source": [
    "product_array[sales_array>2]"
   ]
  },
  {
   "cell_type": "code",
   "execution_count": 101,
   "id": "007e8868",
   "metadata": {},
   "outputs": [
    {
     "data": {
      "text/plain": [
       "array([ True, False,  True, False,  True, False,  True, False,  True,\n",
       "       False,  True, False,  True, False,  True, False,  True, False,\n",
       "        True, False])"
      ]
     },
     "execution_count": 101,
     "metadata": {},
     "output_type": "execute_result"
    }
   ],
   "source": [
    "\n",
    "my_array % 2 ==0\n"
   ]
  },
  {
   "cell_type": "code",
   "execution_count": 102,
   "id": "9a0c84cb",
   "metadata": {},
   "outputs": [
    {
     "data": {
      "text/plain": [
       "array([ 0,  2,  4,  6,  8, 10, 12, 14, 16, 18])"
      ]
     },
     "execution_count": 102,
     "metadata": {},
     "output_type": "execute_result"
    }
   ],
   "source": [
    "my_array[my_array % 2 ==0]"
   ]
  },
  {
   "cell_type": "code",
   "execution_count": 103,
   "id": "2264d2a6",
   "metadata": {},
   "outputs": [
    {
     "data": {
      "text/plain": [
       "array(['even', 'odd', 'even', 'odd', 'even', 'odd', 'even', 'odd', 'even',\n",
       "       'odd', 'even', 'odd', 'even', 'odd', 'even', 'odd', 'even', 'odd',\n",
       "       'even', 'odd'], dtype='<U4')"
      ]
     },
     "execution_count": 103,
     "metadata": {},
     "output_type": "execute_result"
    }
   ],
   "source": [
    "even_odd = np.array(['even','odd']*10)\n",
    "even_odd"
   ]
  },
  {
   "cell_type": "code",
   "execution_count": 104,
   "id": "fb33bcd2",
   "metadata": {},
   "outputs": [
    {
     "data": {
      "text/plain": [
       "array([ True, False,  True, False,  True, False,  True, False,  True,\n",
       "       False,  True, False,  True, False,  True, False,  True, False,\n",
       "        True, False])"
      ]
     },
     "execution_count": 104,
     "metadata": {},
     "output_type": "execute_result"
    }
   ],
   "source": [
    "even_odd != 'odd'"
   ]
  },
  {
   "cell_type": "code",
   "execution_count": 105,
   "id": "617ec739",
   "metadata": {},
   "outputs": [
    {
     "data": {
      "text/plain": [
       "array(['even', 'even', 'even', 'even', 'even', 'even', 'even', 'even',\n",
       "       'even', 'even'], dtype='<U4')"
      ]
     },
     "execution_count": 105,
     "metadata": {},
     "output_type": "execute_result"
    }
   ],
   "source": [
    "even_odd[even_odd != 'odd']"
   ]
  },
  {
   "cell_type": "code",
   "execution_count": 106,
   "id": "e1a1369b",
   "metadata": {},
   "outputs": [
    {
     "data": {
      "text/plain": [
       "array([ 0,  1,  0,  3,  0,  5,  0,  7,  0,  9,  0, 11,  0, 13,  0, 15,  0,\n",
       "       17,  0, 19])"
      ]
     },
     "execution_count": 106,
     "metadata": {},
     "output_type": "execute_result"
    }
   ],
   "source": [
    "my_array[even_odd=='even'] = 0\n",
    "my_array"
   ]
  },
  {
   "cell_type": "code",
   "execution_count": 107,
   "id": "5784c694",
   "metadata": {},
   "outputs": [
    {
     "data": {
      "text/plain": [
       "array([ 0,  1,  2,  3,  0,  5,  0,  7,  0,  9,  0, 11,  0, 13,  0, 15,  0,\n",
       "       17,  0, 19])"
      ]
     },
     "execution_count": 107,
     "metadata": {},
     "output_type": "execute_result"
    }
   ],
   "source": [
    "my_array[2] = 2\n",
    "my_array"
   ]
  },
  {
   "cell_type": "code",
   "execution_count": 108,
   "id": "fb4e49eb",
   "metadata": {},
   "outputs": [
    {
     "data": {
      "text/plain": [
       "array([ 0,  1,  2,  3,  0,  5,  0,  7,  0,  9,  0, 11,  0, 13,  0, 15,  0,\n",
       "       17,  0, 19])"
      ]
     },
     "execution_count": 108,
     "metadata": {},
     "output_type": "execute_result"
    }
   ],
   "source": [
    "my_array\n"
   ]
  },
  {
   "cell_type": "code",
   "execution_count": 109,
   "id": "bd31a4e0",
   "metadata": {},
   "outputs": [
    {
     "data": {
      "text/plain": [
       "array(['even', 'odd', 'even', 'odd', 'even', 'odd', 'even', 'odd', 'even',\n",
       "       'odd', 'even', 'odd', 'even', 'odd', 'even', 'odd', 'even', 'odd',\n",
       "       'even', 'odd'], dtype='<U4')"
      ]
     },
     "execution_count": 109,
     "metadata": {},
     "output_type": "execute_result"
    }
   ],
   "source": [
    "#where function\n",
    "np.where(my_array%2==0,'even', 'odd')"
   ]
  },
  {
   "cell_type": "code",
   "execution_count": 110,
   "id": "d776e495",
   "metadata": {},
   "outputs": [
    {
     "data": {
      "text/plain": [
       "array(['even', '1', 'even', '3', 'even', '5', 'even', '7', 'even', '9',\n",
       "       'even', '11', 'even', '13', 'even', '15', 'even', '17', 'even',\n",
       "       '19'], dtype='<U11')"
      ]
     },
     "execution_count": 110,
     "metadata": {},
     "output_type": "execute_result"
    }
   ],
   "source": [
    "np.where(my_array%2==0,'even', my_array)"
   ]
  },
  {
   "cell_type": "code",
   "execution_count": 111,
   "id": "8439fa06",
   "metadata": {},
   "outputs": [
    {
     "data": {
      "text/plain": [
       "102"
      ]
     },
     "execution_count": 111,
     "metadata": {},
     "output_type": "execute_result"
    }
   ],
   "source": [
    "#array aggregation function\n",
    "my_array.sum()"
   ]
  },
  {
   "cell_type": "code",
   "execution_count": 112,
   "id": "c9384a56",
   "metadata": {
    "scrolled": true
   },
   "outputs": [
    {
     "data": {
      "text/plain": [
       "array(['even', 'odd', 'even', 'odd', 'even', 'odd', 'even', 'odd', 'even',\n",
       "       '9', 'even', 'odd', 'even', 'odd', 'even', 'odd', 'even', 'odd',\n",
       "       'even', 'odd'], dtype='<U11')"
      ]
     },
     "execution_count": 112,
     "metadata": {},
     "output_type": "execute_result"
    }
   ],
   "source": [
    "np.where(my_array%2==0,'even', np.where(my_array==9,my_array,'odd'))"
   ]
  },
  {
   "cell_type": "code",
   "execution_count": 113,
   "id": "35df1c93",
   "metadata": {},
   "outputs": [
    {
     "data": {
      "text/plain": [
       "array([3.97, 8.66, 4.6 , 3.06, 5.74, 0.89, 8.82, 7.32, 7.32, 5.62])"
      ]
     },
     "execution_count": 113,
     "metadata": {},
     "output_type": "execute_result"
    }
   ],
   "source": [
    "rng=np.random.default_rng(616)\n",
    "price = (rng.random(10)*10).round(2)\n",
    "price"
   ]
  },
  {
   "cell_type": "code",
   "execution_count": 114,
   "id": "b2c3f441",
   "metadata": {},
   "outputs": [
    {
     "data": {
      "text/plain": [
       "array([80, 33, 60,  6, 31, 35, 16, 20, 29, 43], dtype=int64)"
      ]
     },
     "execution_count": 114,
     "metadata": {},
     "output_type": "execute_result"
    }
   ],
   "source": [
    "inventory = rng.integers(0,100,10)\n",
    "inventory"
   ]
  },
  {
   "cell_type": "code",
   "execution_count": 115,
   "id": "e41ea43f",
   "metadata": {},
   "outputs": [
    {
     "data": {
      "text/plain": [
       "1848.2900000000002"
      ]
     },
     "execution_count": 115,
     "metadata": {},
     "output_type": "execute_result"
    }
   ],
   "source": [
    "(price*inventory).sum()"
   ]
  },
  {
   "cell_type": "code",
   "execution_count": 116,
   "id": "793ee834",
   "metadata": {},
   "outputs": [
    {
     "data": {
      "text/plain": [
       "184.829"
      ]
     },
     "execution_count": 116,
     "metadata": {},
     "output_type": "execute_result"
    }
   ],
   "source": [
    "(price*inventory).mean()"
   ]
  },
  {
   "cell_type": "code",
   "execution_count": 117,
   "id": "397ac570",
   "metadata": {},
   "outputs": [
    {
     "data": {
      "text/plain": [
       "5.1"
      ]
     },
     "execution_count": 117,
     "metadata": {},
     "output_type": "execute_result"
    }
   ],
   "source": [
    "my_array.mean()"
   ]
  },
  {
   "cell_type": "code",
   "execution_count": 118,
   "id": "fa4cb545",
   "metadata": {},
   "outputs": [
    {
     "data": {
      "text/plain": [
       "19"
      ]
     },
     "execution_count": 118,
     "metadata": {},
     "output_type": "execute_result"
    }
   ],
   "source": [
    "my_array.max()"
   ]
  },
  {
   "cell_type": "code",
   "execution_count": 119,
   "id": "60570fb2",
   "metadata": {},
   "outputs": [
    {
     "data": {
      "text/plain": [
       "0"
      ]
     },
     "execution_count": 119,
     "metadata": {},
     "output_type": "execute_result"
    }
   ],
   "source": [
    "my_array.min()"
   ]
  },
  {
   "cell_type": "code",
   "execution_count": 120,
   "id": "12df1cc2",
   "metadata": {},
   "outputs": [],
   "source": [
    "#we can also aggreagate across rows and columns\n",
    "price_2d = price.reshape(5,2)"
   ]
  },
  {
   "cell_type": "code",
   "execution_count": 121,
   "id": "ccc3a3ca",
   "metadata": {},
   "outputs": [
    {
     "data": {
      "text/plain": [
       "array([[3.97, 8.66],\n",
       "       [4.6 , 3.06],\n",
       "       [5.74, 0.89],\n",
       "       [8.82, 7.32],\n",
       "       [7.32, 5.62]])"
      ]
     },
     "execution_count": 121,
     "metadata": {},
     "output_type": "execute_result"
    }
   ],
   "source": [
    "price_2d"
   ]
  },
  {
   "cell_type": "code",
   "execution_count": 122,
   "id": "f772ab7c",
   "metadata": {},
   "outputs": [
    {
     "data": {
      "text/plain": [
       "array([30.45, 25.55])"
      ]
     },
     "execution_count": 122,
     "metadata": {},
     "output_type": "execute_result"
    }
   ],
   "source": [
    "#sum along coloum\n",
    "price_2d.sum(axis=0)"
   ]
  },
  {
   "cell_type": "code",
   "execution_count": 123,
   "id": "8d8cb431",
   "metadata": {},
   "outputs": [
    {
     "data": {
      "text/plain": [
       "array([12.63,  7.66,  6.63, 16.14, 12.94])"
      ]
     },
     "execution_count": 123,
     "metadata": {},
     "output_type": "execute_result"
    }
   ],
   "source": [
    "#sum along rows\n",
    "price_2d.sum(axis=1)"
   ]
  },
  {
   "cell_type": "code",
   "execution_count": 124,
   "id": "6edf9bd8",
   "metadata": {},
   "outputs": [
    {
     "data": {
      "text/plain": [
       "array([6.09, 5.11])"
      ]
     },
     "execution_count": 124,
     "metadata": {},
     "output_type": "execute_result"
    }
   ],
   "source": [
    "price_2d.mean(axis=0)"
   ]
  },
  {
   "cell_type": "code",
   "execution_count": 125,
   "id": "1234fa30",
   "metadata": {},
   "outputs": [
    {
     "data": {
      "text/plain": [
       "array([317.6 , 285.78, 276.  ,  18.36, 177.94,  31.15, 141.12, 146.4 ,\n",
       "       212.28, 241.66])"
      ]
     },
     "execution_count": 125,
     "metadata": {},
     "output_type": "execute_result"
    }
   ],
   "source": [
    "#array function\n",
    "product_value = (price*inventory)\n",
    "product_value"
   ]
  },
  {
   "cell_type": "code",
   "execution_count": 126,
   "id": "339a54bb",
   "metadata": {},
   "outputs": [],
   "source": [
    "reshape_product_value = product_value.reshape(2,5)"
   ]
  },
  {
   "cell_type": "code",
   "execution_count": 127,
   "id": "ed7b3166",
   "metadata": {},
   "outputs": [
    {
     "data": {
      "text/plain": [
       "195.11"
      ]
     },
     "execution_count": 127,
     "metadata": {},
     "output_type": "execute_result"
    }
   ],
   "source": [
    "np.median(reshape_product_value)"
   ]
  },
  {
   "cell_type": "code",
   "execution_count": 128,
   "id": "74bbd7d3",
   "metadata": {},
   "outputs": [
    {
     "data": {
      "text/plain": [
       "195.11"
      ]
     },
     "execution_count": 128,
     "metadata": {},
     "output_type": "execute_result"
    }
   ],
   "source": [
    "np.percentile(reshape_product_value,50)"
   ]
  },
  {
   "cell_type": "code",
   "execution_count": 129,
   "id": "e0970a89",
   "metadata": {},
   "outputs": [
    {
     "data": {
      "text/plain": [
       "array([[17.82133553, 16.90502884, 16.61324773,  4.28485706, 13.33941528],\n",
       "       [ 5.5812185 , 11.87939392, 12.09958677, 14.56983185, 15.54541733]])"
      ]
     },
     "execution_count": 129,
     "metadata": {},
     "output_type": "execute_result"
    }
   ],
   "source": [
    "np.sqrt(reshape_product_value)"
   ]
  },
  {
   "cell_type": "code",
   "execution_count": 130,
   "id": "07c14bd2",
   "metadata": {},
   "outputs": [
    {
     "data": {
      "text/plain": [
       "array([ 18.36,  31.15, 141.12, 146.4 , 177.94, 212.28, 241.66, 276.  ,\n",
       "       285.78, 317.6 ])"
      ]
     },
     "execution_count": 130,
     "metadata": {},
     "output_type": "execute_result"
    }
   ],
   "source": [
    "np.unique(reshape_product_value)   "
   ]
  },
  {
   "cell_type": "code",
   "execution_count": 131,
   "id": "c3fa85f3",
   "metadata": {},
   "outputs": [
    {
     "data": {
      "text/plain": [
       "array([317.6 , 285.78, 276.  ,  18.36, 177.94,  31.15, 141.12, 146.4 ,\n",
       "       212.28, 241.66])"
      ]
     },
     "execution_count": 131,
     "metadata": {},
     "output_type": "execute_result"
    }
   ],
   "source": [
    "#sorting array\n",
    "product_value\n"
   ]
  },
  {
   "cell_type": "code",
   "execution_count": 132,
   "id": "431b8d80",
   "metadata": {},
   "outputs": [
    {
     "data": {
      "text/plain": [
       "array([ 18.36,  31.15, 141.12, 146.4 , 177.94, 212.28, 241.66, 276.  ,\n",
       "       285.78, 317.6 ])"
      ]
     },
     "execution_count": 132,
     "metadata": {},
     "output_type": "execute_result"
    }
   ],
   "source": [
    "np.sort(product_value)"
   ]
  },
  {
   "cell_type": "code",
   "execution_count": 133,
   "id": "2b117929",
   "metadata": {},
   "outputs": [],
   "source": [
    "  product_value.sort()"
   ]
  },
  {
   "cell_type": "code",
   "execution_count": 134,
   "id": "06b3f93c",
   "metadata": {},
   "outputs": [
    {
     "data": {
      "text/plain": [
       "317.6"
      ]
     },
     "execution_count": 134,
     "metadata": {},
     "output_type": "execute_result"
    }
   ],
   "source": [
    "product_value.max()"
   ]
  },
  {
   "cell_type": "code",
   "execution_count": 135,
   "id": "d959b335",
   "metadata": {},
   "outputs": [
    {
     "data": {
      "text/plain": [
       "array([317.6 , 285.78, 276.  , 241.66, 212.28, 177.94, 146.4 , 141.12,\n",
       "        31.15,  18.36])"
      ]
     },
     "execution_count": 135,
     "metadata": {},
     "output_type": "execute_result"
    }
   ],
   "source": [
    "product_value[::-1]"
   ]
  },
  {
   "cell_type": "code",
   "execution_count": null,
   "id": "fa3c9d25",
   "metadata": {},
   "outputs": [],
   "source": []
  },
  {
   "cell_type": "code",
   "execution_count": null,
   "id": "48c0f87d",
   "metadata": {},
   "outputs": [],
   "source": []
  }
 ],
 "metadata": {
  "kernelspec": {
   "display_name": "Python 3 (ipykernel)",
   "language": "python",
   "name": "python3"
  },
  "language_info": {
   "codemirror_mode": {
    "name": "ipython",
    "version": 3
   },
   "file_extension": ".py",
   "mimetype": "text/x-python",
   "name": "python",
   "nbconvert_exporter": "python",
   "pygments_lexer": "ipython3",
   "version": "3.11.5"
  }
 },
 "nbformat": 4,
 "nbformat_minor": 5
}
