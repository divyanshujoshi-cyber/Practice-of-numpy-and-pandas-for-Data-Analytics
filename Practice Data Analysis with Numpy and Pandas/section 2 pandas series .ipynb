{
 "cells": [
  {
   "cell_type": "code",
   "execution_count": 1,
   "id": "e171f529",
   "metadata": {},
   "outputs": [],
   "source": [
    "import pandas as pd\n",
    "import numpy as np"
   ]
  },
  {
   "cell_type": "code",
   "execution_count": 2,
   "id": "1ad2b7e7",
   "metadata": {},
   "outputs": [],
   "source": [
    "#pd.series is used to convert array into pandas series\n",
    "\n",
    "array = np.arange(5)\n",
    "series = pd.Series(array)"
   ]
  },
  {
   "cell_type": "code",
   "execution_count": 3,
   "id": "d22e1cd5",
   "metadata": {},
   "outputs": [
    {
     "data": {
      "text/plain": [
       "0    0\n",
       "1    1\n",
       "2    2\n",
       "3    3\n",
       "4    4\n",
       "Name: Test array, dtype: int32"
      ]
     },
     "execution_count": 3,
     "metadata": {},
     "output_type": "execute_result"
    }
   ],
   "source": [
    "#name is optional\n",
    "pd.Series(np.arange(5),name = 'Test array')"
   ]
  },
  {
   "cell_type": "code",
   "execution_count": 4,
   "id": "ebf54e56",
   "metadata": {},
   "outputs": [
    {
     "data": {
      "text/plain": [
       "array([0, 1, 2, 3, 4])"
      ]
     },
     "execution_count": 4,
     "metadata": {},
     "output_type": "execute_result"
    }
   ],
   "source": [
    "series.values"
   ]
  },
  {
   "cell_type": "code",
   "execution_count": 5,
   "id": "10bfc09a",
   "metadata": {},
   "outputs": [
    {
     "data": {
      "text/plain": [
       "2.0"
      ]
     },
     "execution_count": 5,
     "metadata": {},
     "output_type": "execute_result"
    }
   ],
   "source": [
    "series.values.mean()"
   ]
  },
  {
   "cell_type": "code",
   "execution_count": 6,
   "id": "c4399467",
   "metadata": {},
   "outputs": [
    {
     "data": {
      "text/plain": [
       "10    0\n",
       "20    1\n",
       "30    2\n",
       "40    3\n",
       "50    4\n",
       "dtype: int32"
      ]
     },
     "execution_count": 6,
     "metadata": {},
     "output_type": "execute_result"
    }
   ],
   "source": [
    "#assaigning new index values\n",
    "series.index = [10,20,30,40,50]\n",
    "series"
   ]
  },
  {
   "cell_type": "code",
   "execution_count": 7,
   "id": "7c7106c5",
   "metadata": {},
   "outputs": [
    {
     "data": {
      "text/plain": [
       "10    0\n",
       "20    1\n",
       "30    2\n",
       "40    3\n",
       "50    4\n",
       "Name: duck, dtype: int32"
      ]
     },
     "execution_count": 7,
     "metadata": {},
     "output_type": "execute_result"
    }
   ],
   "source": [
    "series.name = 'duck'\n",
    "series"
   ]
  },
  {
   "cell_type": "code",
   "execution_count": 8,
   "id": "6068df77",
   "metadata": {},
   "outputs": [
    {
     "data": {
      "text/plain": [
       "dtype('int32')"
      ]
     },
     "execution_count": 8,
     "metadata": {},
     "output_type": "execute_result"
    }
   ],
   "source": [
    "series.dtype"
   ]
  },
  {
   "cell_type": "code",
   "execution_count": 9,
   "id": "5ccf09ce",
   "metadata": {},
   "outputs": [
    {
     "data": {
      "text/plain": [
       "0    0\n",
       "1    1\n",
       "2    2\n",
       "3    3\n",
       "4    4\n",
       "dtype: int64"
      ]
     },
     "execution_count": 9,
     "metadata": {},
     "output_type": "execute_result"
    }
   ],
   "source": [
    "pd.Series(range(5))"
   ]
  },
  {
   "cell_type": "code",
   "execution_count": 10,
   "id": "a891bb7d",
   "metadata": {},
   "outputs": [
    {
     "data": {
      "text/plain": [
       "0    0.0\n",
       "1    1.0\n",
       "2    2.0\n",
       "3    3.0\n",
       "4    4.0\n",
       "dtype: float64"
      ]
     },
     "execution_count": 10,
     "metadata": {},
     "output_type": "execute_result"
    }
   ],
   "source": [
    "#astype() is used to convert the data type\n",
    "pd.Series(range(5)).astype('float')"
   ]
  },
  {
   "cell_type": "code",
   "execution_count": 11,
   "id": "84b880dd",
   "metadata": {
    "scrolled": true
   },
   "outputs": [
    {
     "data": {
      "text/plain": [
       "0    False\n",
       "1     True\n",
       "2     True\n",
       "3     True\n",
       "4     True\n",
       "dtype: bool"
      ]
     },
     "execution_count": 11,
     "metadata": {},
     "output_type": "execute_result"
    }
   ],
   "source": [
    "pd.Series(range(5)).astype('bool')"
   ]
  },
  {
   "cell_type": "code",
   "execution_count": 12,
   "id": "4e983022",
   "metadata": {
    "scrolled": true
   },
   "outputs": [
    {
     "data": {
      "text/plain": [
       "0    0\n",
       "1    1\n",
       "2    2\n",
       "3    3\n",
       "4    4\n",
       "dtype: object"
      ]
     },
     "execution_count": 12,
     "metadata": {},
     "output_type": "execute_result"
    }
   ],
   "source": [
    "pd.Series(range(5)).astype('object')"
   ]
  },
  {
   "cell_type": "code",
   "execution_count": 13,
   "id": "8c4cc1e9",
   "metadata": {
    "scrolled": true
   },
   "outputs": [
    {
     "data": {
      "text/plain": [
       "0    0\n",
       "1    1\n",
       "2    2\n",
       "3    3\n",
       "4    4\n",
       "dtype: string"
      ]
     },
     "execution_count": 13,
     "metadata": {},
     "output_type": "execute_result"
    }
   ],
   "source": [
    "pd.Series(range(5)).astype('string')"
   ]
  },
  {
   "cell_type": "code",
   "execution_count": 14,
   "id": "fbc81e1a",
   "metadata": {},
   "outputs": [
    {
     "data": {
      "text/plain": [
       "0    a\n",
       "1    b\n",
       "2    c\n",
       "dtype: object"
      ]
     },
     "execution_count": 14,
     "metadata": {},
     "output_type": "execute_result"
    }
   ],
   "source": [
    "pd.Series(['a','b','c'])"
   ]
  },
  {
   "cell_type": "code",
   "execution_count": 15,
   "id": "b69461a3",
   "metadata": {},
   "outputs": [
    {
     "data": {
      "text/plain": [
       "0    0\n",
       "1    1\n",
       "2    2\n",
       "3    3\n",
       "4    4\n",
       "dtype: int64"
      ]
     },
     "execution_count": 15,
     "metadata": {},
     "output_type": "execute_result"
    }
   ],
   "source": [
    "my_series = pd.Series(range(5))\n",
    "my_series"
   ]
  },
  {
   "cell_type": "code",
   "execution_count": 16,
   "id": "bfbbef79",
   "metadata": {},
   "outputs": [
    {
     "data": {
      "text/plain": [
       "3"
      ]
     },
     "execution_count": 16,
     "metadata": {},
     "output_type": "execute_result"
    }
   ],
   "source": [
    "#indexing\n",
    "my_series[3]"
   ]
  },
  {
   "cell_type": "code",
   "execution_count": 17,
   "id": "c323156f",
   "metadata": {},
   "outputs": [
    {
     "data": {
      "text/plain": [
       "2    2\n",
       "3    3\n",
       "dtype: int64"
      ]
     },
     "execution_count": 17,
     "metadata": {},
     "output_type": "execute_result"
    }
   ],
   "source": [
    "#stop is exclusive\n",
    "my_series[2:4]\n"
   ]
  },
  {
   "cell_type": "code",
   "execution_count": 18,
   "id": "83fa6060",
   "metadata": {},
   "outputs": [
    {
     "data": {
      "text/plain": [
       "1    1\n",
       "3    3\n",
       "dtype: int64"
      ]
     },
     "execution_count": 18,
     "metadata": {},
     "output_type": "execute_result"
    }
   ],
   "source": [
    "#indexing with stepsize\n",
    "my_series[1::2]"
   ]
  },
  {
   "cell_type": "code",
   "execution_count": 19,
   "id": "1c545263",
   "metadata": {},
   "outputs": [
    {
     "data": {
      "text/plain": [
       "day1    0\n",
       "day2    1\n",
       "day3    2\n",
       "day4    3\n",
       "day5    4\n",
       "dtype: int64"
      ]
     },
     "execution_count": 19,
     "metadata": {},
     "output_type": "execute_result"
    }
   ],
   "source": [
    "days = ['day1','day2','day3','day4','day5']\n",
    "my_series.index = days\n",
    "my_series"
   ]
  },
  {
   "cell_type": "code",
   "execution_count": 20,
   "id": "332701f2",
   "metadata": {},
   "outputs": [
    {
     "data": {
      "text/plain": [
       "0"
      ]
     },
     "execution_count": 20,
     "metadata": {},
     "output_type": "execute_result"
    }
   ],
   "source": [
    "my_series['day1']\n"
   ]
  },
  {
   "cell_type": "code",
   "execution_count": 21,
   "id": "f8ed67dc",
   "metadata": {},
   "outputs": [
    {
     "data": {
      "text/plain": [
       "day2    1\n",
       "day3    2\n",
       "day4    3\n",
       "dtype: int64"
      ]
     },
     "execution_count": 21,
     "metadata": {},
     "output_type": "execute_result"
    }
   ],
   "source": [
    "my_series[\"day2\":\"day4\"]"
   ]
  },
  {
   "cell_type": "code",
   "execution_count": 22,
   "id": "c5e0cedd",
   "metadata": {},
   "outputs": [
    {
     "data": {
      "text/plain": [
       "day1    0\n",
       "day3    2\n",
       "day5    4\n",
       "dtype: int64"
      ]
     },
     "execution_count": 22,
     "metadata": {},
     "output_type": "execute_result"
    }
   ],
   "source": [
    "my_series[::2]"
   ]
  },
  {
   "cell_type": "code",
   "execution_count": 23,
   "id": "2296e5cb",
   "metadata": {},
   "outputs": [
    {
     "data": {
      "text/plain": [
       "day1    0\n",
       "day2    1\n",
       "day3    2\n",
       "day4    3\n",
       "day5    4\n",
       "dtype: int64"
      ]
     },
     "execution_count": 23,
     "metadata": {},
     "output_type": "execute_result"
    }
   ],
   "source": [
    "#iloc[] method\n",
    "new_series = pd.Series([0,1,2,3,4], index=['day1','day2','day3','day4','day5'])\n",
    "new_series"
   ]
  },
  {
   "cell_type": "code",
   "execution_count": 24,
   "id": "cefe8a85",
   "metadata": {},
   "outputs": [
    {
     "data": {
      "text/plain": [
       "1"
      ]
     },
     "execution_count": 24,
     "metadata": {},
     "output_type": "execute_result"
    }
   ],
   "source": [
    "new_series.iloc[1]"
   ]
  },
  {
   "cell_type": "code",
   "execution_count": 25,
   "id": "87deaf0a",
   "metadata": {},
   "outputs": [
    {
     "data": {
      "text/plain": [
       "day2    1\n",
       "day4    3\n",
       "day5    4\n",
       "dtype: int64"
      ]
     },
     "execution_count": 25,
     "metadata": {},
     "output_type": "execute_result"
    }
   ],
   "source": [
    "new_series.iloc[[1,3,4]]"
   ]
  },
  {
   "cell_type": "code",
   "execution_count": 26,
   "id": "86b39af5",
   "metadata": {},
   "outputs": [
    {
     "data": {
      "text/plain": [
       "day2    1\n",
       "day3    2\n",
       "dtype: int64"
      ]
     },
     "execution_count": 26,
     "metadata": {},
     "output_type": "execute_result"
    }
   ],
   "source": [
    "new_series.iloc[1:3]  "
   ]
  },
  {
   "cell_type": "code",
   "execution_count": 27,
   "id": "7874d593",
   "metadata": {},
   "outputs": [
    {
     "data": {
      "text/plain": [
       "1"
      ]
     },
     "execution_count": 27,
     "metadata": {},
     "output_type": "execute_result"
    }
   ],
   "source": [
    "#loc[] used with index values\n",
    "new_series.loc['day2']"
   ]
  },
  {
   "cell_type": "code",
   "execution_count": 28,
   "id": "ffd33647",
   "metadata": {},
   "outputs": [
    {
     "data": {
      "text/plain": [
       "day1    0\n",
       "day2    1\n",
       "day3    2\n",
       "dtype: int64"
      ]
     },
     "execution_count": 28,
     "metadata": {},
     "output_type": "execute_result"
    }
   ],
   "source": [
    "new_series.loc['day1':'day3']"
   ]
  },
  {
   "cell_type": "code",
   "execution_count": 29,
   "id": "be543f94",
   "metadata": {},
   "outputs": [],
   "source": [
    "new_series.index =[0,2,3,100,5]"
   ]
  },
  {
   "cell_type": "code",
   "execution_count": 30,
   "id": "9619d1ef",
   "metadata": {},
   "outputs": [
    {
     "data": {
      "text/plain": [
       "0      0\n",
       "2      1\n",
       "100    3\n",
       "5      4\n",
       "dtype: int64"
      ]
     },
     "execution_count": 30,
     "metadata": {},
     "output_type": "execute_result"
    }
   ],
   "source": [
    "#index value dosent drop,  the value dropped\n",
    "new_series[new_series != 2]\n"
   ]
  },
  {
   "cell_type": "code",
   "execution_count": 31,
   "id": "a26e3395",
   "metadata": {},
   "outputs": [
    {
     "data": {
      "text/plain": [
       "0      0\n",
       "2      1\n",
       "3      2\n",
       "100    3\n",
       "5      4\n",
       "dtype: int64"
      ]
     },
     "execution_count": 31,
     "metadata": {},
     "output_type": "execute_result"
    }
   ],
   "source": [
    "new_series.loc[0:5]"
   ]
  },
  {
   "cell_type": "code",
   "execution_count": 32,
   "id": "3cf96f6c",
   "metadata": {},
   "outputs": [
    {
     "data": {
      "text/plain": [
       "3"
      ]
     },
     "execution_count": 32,
     "metadata": {},
     "output_type": "execute_result"
    }
   ],
   "source": [
    "new_series[100]"
   ]
  },
  {
   "cell_type": "code",
   "execution_count": 33,
   "id": "24d26669",
   "metadata": {},
   "outputs": [
    {
     "data": {
      "text/plain": [
       "Index(['day0', 'day0', 'day0', 'day2', 'day2'], dtype='object')"
      ]
     },
     "execution_count": 33,
     "metadata": {},
     "output_type": "execute_result"
    }
   ],
   "source": [
    "#reset index\n",
    "new_series = pd.Series([0,1,2,3,4], index=['day0','day0','day0','day2','day2'])\n",
    "new_series.index"
   ]
  },
  {
   "cell_type": "code",
   "execution_count": 34,
   "id": "fbe6bb53",
   "metadata": {},
   "outputs": [
    {
     "data": {
      "text/plain": [
       "day0    0\n",
       "day0    1\n",
       "day0    2\n",
       "dtype: int64"
      ]
     },
     "execution_count": 34,
     "metadata": {},
     "output_type": "execute_result"
    }
   ],
   "source": [
    " new_series['day0']"
   ]
  },
  {
   "cell_type": "code",
   "execution_count": 35,
   "id": "f7f7feb6",
   "metadata": {
    "scrolled": true
   },
   "outputs": [
    {
     "data": {
      "text/html": [
       "<div>\n",
       "<style scoped>\n",
       "    .dataframe tbody tr th:only-of-type {\n",
       "        vertical-align: middle;\n",
       "    }\n",
       "\n",
       "    .dataframe tbody tr th {\n",
       "        vertical-align: top;\n",
       "    }\n",
       "\n",
       "    .dataframe thead th {\n",
       "        text-align: right;\n",
       "    }\n",
       "</style>\n",
       "<table border=\"1\" class=\"dataframe\">\n",
       "  <thead>\n",
       "    <tr style=\"text-align: right;\">\n",
       "      <th></th>\n",
       "      <th>index</th>\n",
       "      <th>0</th>\n",
       "    </tr>\n",
       "  </thead>\n",
       "  <tbody>\n",
       "    <tr>\n",
       "      <th>0</th>\n",
       "      <td>day0</td>\n",
       "      <td>0</td>\n",
       "    </tr>\n",
       "    <tr>\n",
       "      <th>1</th>\n",
       "      <td>day0</td>\n",
       "      <td>1</td>\n",
       "    </tr>\n",
       "    <tr>\n",
       "      <th>2</th>\n",
       "      <td>day0</td>\n",
       "      <td>2</td>\n",
       "    </tr>\n",
       "    <tr>\n",
       "      <th>3</th>\n",
       "      <td>day2</td>\n",
       "      <td>3</td>\n",
       "    </tr>\n",
       "    <tr>\n",
       "      <th>4</th>\n",
       "      <td>day2</td>\n",
       "      <td>4</td>\n",
       "    </tr>\n",
       "  </tbody>\n",
       "</table>\n",
       "</div>"
      ],
      "text/plain": [
       "  index  0\n",
       "0  day0  0\n",
       "1  day0  1\n",
       "2  day0  2\n",
       "3  day2  3\n",
       "4  day2  4"
      ]
     },
     "execution_count": 35,
     "metadata": {},
     "output_type": "execute_result"
    }
   ],
   "source": [
    "new_series.reset_index()"
   ]
  },
  {
   "cell_type": "code",
   "execution_count": 36,
   "id": "dadcbde1",
   "metadata": {},
   "outputs": [
    {
     "data": {
      "text/plain": [
       "2    2\n",
       "3    3\n",
       "4    4\n",
       "dtype: int64"
      ]
     },
     "execution_count": 36,
     "metadata": {},
     "output_type": "execute_result"
    }
   ],
   "source": [
    "new_series.reset_index(drop=True).loc[2:4]"
   ]
  },
  {
   "cell_type": "code",
   "execution_count": 37,
   "id": "b8117caa",
   "metadata": {},
   "outputs": [
    {
     "data": {
      "text/plain": [
       "day0     True\n",
       "day0     True\n",
       "day0    False\n",
       "day2     True\n",
       "day2     True\n",
       "dtype: bool"
      ]
     },
     "execution_count": 37,
     "metadata": {},
     "output_type": "execute_result"
    }
   ],
   "source": [
    "#logical operator \n",
    "new_series != 2"
   ]
  },
  {
   "cell_type": "code",
   "execution_count": 38,
   "id": "2050dd98",
   "metadata": {},
   "outputs": [
    {
     "data": {
      "text/plain": [
       "day0    0\n",
       "day0    1\n",
       "day2    3\n",
       "day2    4\n",
       "dtype: int64"
      ]
     },
     "execution_count": 38,
     "metadata": {},
     "output_type": "execute_result"
    }
   ],
   "source": [
    "new_series[new_series != 2 ]"
   ]
  },
  {
   "cell_type": "code",
   "execution_count": 39,
   "id": "dc68d41f",
   "metadata": {},
   "outputs": [
    {
     "data": {
      "text/plain": [
       "day0    2\n",
       "dtype: int64"
      ]
     },
     "execution_count": 39,
     "metadata": {},
     "output_type": "execute_result"
    }
   ],
   "source": [
    "#~is used to check this inversily\n",
    "new_series[~(new_series != 2) ]"
   ]
  },
  {
   "cell_type": "code",
   "execution_count": 40,
   "id": "59b0ebb3",
   "metadata": {},
   "outputs": [
    {
     "data": {
      "text/plain": [
       "day2    1\n",
       "day3    2\n",
       "dtype: int64"
      ]
     },
     "execution_count": 40,
     "metadata": {},
     "output_type": "execute_result"
    }
   ],
   "source": [
    "my_series.loc[my_series.isin([1,2])]"
   ]
  },
  {
   "cell_type": "code",
   "execution_count": 41,
   "id": "5b918959",
   "metadata": {},
   "outputs": [
    {
     "data": {
      "text/plain": [
       "day1    0\n",
       "day4    3\n",
       "day5    4\n",
       "dtype: int64"
      ]
     },
     "execution_count": 41,
     "metadata": {},
     "output_type": "execute_result"
    }
   ],
   "source": [
    "my_series.loc[~my_series.isin([1,2])]"
   ]
  },
  {
   "cell_type": "code",
   "execution_count": 42,
   "id": "18cd29fc",
   "metadata": {},
   "outputs": [
    {
     "data": {
      "text/plain": [
       "day4    3\n",
       "day5    4\n",
       "dtype: int64"
      ]
     },
     "execution_count": 42,
     "metadata": {},
     "output_type": "execute_result"
    }
   ],
   "source": [
    "my_series.loc[my_series > 2]"
   ]
  },
  {
   "cell_type": "code",
   "execution_count": 43,
   "id": "0d7fcd38",
   "metadata": {
    "scrolled": true
   },
   "outputs": [
    {
     "data": {
      "text/plain": [
       "day2    1\n",
       "day3    2\n",
       "day4    3\n",
       "day5    4\n",
       "dtype: int64"
      ]
     },
     "execution_count": 43,
     "metadata": {},
     "output_type": "execute_result"
    }
   ],
   "source": [
    "mask = (my_series.isin([1,2])) | (my_series > 2)\n",
    "my_series.loc[mask]"
   ]
  },
  {
   "cell_type": "code",
   "execution_count": 44,
   "id": "a96334da",
   "metadata": {},
   "outputs": [
    {
     "data": {
      "text/plain": [
       "day1    False\n",
       "day2     True\n",
       "day3     True\n",
       "day4    False\n",
       "day5    False\n",
       "dtype: bool"
      ]
     },
     "execution_count": 44,
     "metadata": {},
     "output_type": "execute_result"
    }
   ],
   "source": [
    "my_series.isin([1,2])"
   ]
  },
  {
   "cell_type": "code",
   "execution_count": 45,
   "id": "e8d337f1",
   "metadata": {},
   "outputs": [
    {
     "data": {
      "text/plain": [
       "day2    1\n",
       "day3    2\n",
       "dtype: int64"
      ]
     },
     "execution_count": 45,
     "metadata": {},
     "output_type": "execute_result"
    }
   ],
   "source": [
    "my_series[my_series.isin([1,2])]"
   ]
  },
  {
   "cell_type": "code",
   "execution_count": 46,
   "id": "ad81f2fa",
   "metadata": {},
   "outputs": [
    {
     "data": {
      "text/plain": [
       "day1    0\n",
       "day2    1\n",
       "day3    2\n",
       "day4    3\n",
       "day5    4\n",
       "dtype: int64"
      ]
     },
     "execution_count": 46,
     "metadata": {},
     "output_type": "execute_result"
    }
   ],
   "source": [
    "#sorting series\n",
    "new_series = pd.Series([0,1,2,3,4], index=['day1','day2','day3','day4','day5'])\n",
    "new_series"
   ]
  },
  {
   "cell_type": "code",
   "execution_count": 47,
   "id": "ddc72509",
   "metadata": {},
   "outputs": [
    {
     "data": {
      "text/plain": [
       "day1    0\n",
       "day2    1\n",
       "day3    2\n",
       "day4    3\n",
       "day5    4\n",
       "dtype: int64"
      ]
     },
     "execution_count": 47,
     "metadata": {},
     "output_type": "execute_result"
    }
   ],
   "source": [
    "new_series.sort_values()"
   ]
  },
  {
   "cell_type": "code",
   "execution_count": 48,
   "id": "1b95b27f",
   "metadata": {},
   "outputs": [
    {
     "data": {
      "text/plain": [
       "day5    4\n",
       "day4    3\n",
       "day3    2\n",
       "day2    1\n",
       "day1    0\n",
       "dtype: int64"
      ]
     },
     "execution_count": 48,
     "metadata": {},
     "output_type": "execute_result"
    }
   ],
   "source": [
    "#sorting in descending order\n",
    "new_series.sort_values(ascending = False)"
   ]
  },
  {
   "cell_type": "code",
   "execution_count": 49,
   "id": "25439481",
   "metadata": {},
   "outputs": [
    {
     "data": {
      "text/plain": [
       "day1    0\n",
       "day2    1\n",
       "day3    2\n",
       "day4    3\n",
       "day5    4\n",
       "dtype: int64"
      ]
     },
     "execution_count": 49,
     "metadata": {},
     "output_type": "execute_result"
    }
   ],
   "source": [
    "new_series.sort_index()"
   ]
  },
  {
   "cell_type": "code",
   "execution_count": 50,
   "id": "eb9d6f32",
   "metadata": {},
   "outputs": [],
   "source": [
    "new_series_sort = new_series.sort_index(ascending = False)"
   ]
  },
  {
   "cell_type": "code",
   "execution_count": 51,
   "id": "5b4b2174",
   "metadata": {},
   "outputs": [
    {
     "data": {
      "text/plain": [
       "day5    4\n",
       "day4    3\n",
       "day3    2\n",
       "day2    1\n",
       "day1    0\n",
       "dtype: int64"
      ]
     },
     "execution_count": 51,
     "metadata": {},
     "output_type": "execute_result"
    }
   ],
   "source": [
    "new_series_sort\n"
   ]
  },
  {
   "cell_type": "code",
   "execution_count": 52,
   "id": "fc7b1302",
   "metadata": {},
   "outputs": [
    {
     "data": {
      "text/plain": [
       "day1       0\n",
       "day2    <NA>\n",
       "day3       2\n",
       "day4       3\n",
       "day5       4\n",
       "dtype: object"
      ]
     },
     "execution_count": 52,
     "metadata": {},
     "output_type": "execute_result"
    }
   ],
   "source": [
    "#arthmatic operators & methods \n",
    "new_series = pd.Series([0,pd.NA,2,3,4], index=['day1','day2','day3','day4','day5'])\n",
    "new_series"
   ]
  },
  {
   "cell_type": "code",
   "execution_count": 53,
   "id": "d4c3a9b9",
   "metadata": {},
   "outputs": [
    {
     "data": {
      "text/plain": [
       "day1       1\n",
       "day2    <NA>\n",
       "day3       3\n",
       "day4       4\n",
       "day5       5\n",
       "dtype: object"
      ]
     },
     "execution_count": 53,
     "metadata": {},
     "output_type": "execute_result"
    }
   ],
   "source": [
    "new_series +1"
   ]
  },
  {
   "cell_type": "code",
   "execution_count": 54,
   "id": "5abb6c55",
   "metadata": {
    "scrolled": true
   },
   "outputs": [],
   "source": [
    "new_series2 = new_series.add(1,fill_value=0).astype('int')"
   ]
  },
  {
   "cell_type": "code",
   "execution_count": 55,
   "id": "965bdf20",
   "metadata": {
    "scrolled": true
   },
   "outputs": [
    {
     "data": {
      "text/plain": [
       "day1    1\n",
       "day2    1\n",
       "day3    3\n",
       "day4    4\n",
       "day5    5\n",
       "dtype: int32"
      ]
     },
     "execution_count": 55,
     "metadata": {},
     "output_type": "execute_result"
    }
   ],
   "source": [
    "new_series2"
   ]
  },
  {
   "cell_type": "code",
   "execution_count": 56,
   "id": "4952208c",
   "metadata": {},
   "outputs": [
    {
     "data": {
      "text/plain": [
       "day1    0.5\n",
       "day2    0.5\n",
       "day3    1.5\n",
       "day4    2.0\n",
       "day5    2.5\n",
       "dtype: float64"
      ]
     },
     "execution_count": 56,
     "metadata": {},
     "output_type": "execute_result"
    }
   ],
   "source": [
    "new_series2 /2"
   ]
  },
  {
   "cell_type": "code",
   "execution_count": 57,
   "id": "00b05378",
   "metadata": {},
   "outputs": [
    {
     "data": {
      "text/plain": [
       "day1    0\n",
       "day2    0\n",
       "day3    1\n",
       "day4    2\n",
       "day5    2\n",
       "dtype: int32"
      ]
     },
     "execution_count": 57,
     "metadata": {},
     "output_type": "execute_result"
    }
   ],
   "source": [
    "#// is used for floor division and it returns nearest whole number\n",
    "new_series2//2"
   ]
  },
  {
   "cell_type": "code",
   "execution_count": 58,
   "id": "1f9a5c8a",
   "metadata": {},
   "outputs": [
    {
     "data": {
      "text/plain": [
       "day1       0\n",
       "day2    <NA>\n",
       "day3       4\n",
       "day4       6\n",
       "day5       8\n",
       "dtype: object"
      ]
     },
     "execution_count": 58,
     "metadata": {},
     "output_type": "execute_result"
    }
   ],
   "source": [
    "new_series + my_series"
   ]
  },
  {
   "cell_type": "code",
   "execution_count": 59,
   "id": "79b8880a",
   "metadata": {},
   "outputs": [
    {
     "data": {
      "text/plain": [
       "day1    0\n",
       "day2    1\n",
       "day3    4\n",
       "day4    6\n",
       "day5    8\n",
       "dtype: object"
      ]
     },
     "execution_count": 59,
     "metadata": {},
     "output_type": "execute_result"
    }
   ],
   "source": [
    "new_series.add(my_series,fill_value=0) #to remove nan "
   ]
  },
  {
   "cell_type": "code",
   "execution_count": 60,
   "id": "ea6c832b",
   "metadata": {},
   "outputs": [
    {
     "data": {
      "text/plain": [
       "0    day1\n",
       "1    day2\n",
       "2    day3\n",
       "3    day4\n",
       "4    day5\n",
       "dtype: object"
      ]
     },
     "execution_count": 60,
     "metadata": {},
     "output_type": "execute_result"
    }
   ],
   "source": [
    "#string methods\n",
    "string_series = pd.Series(['day1','day2','day3','day4','day5'])\n",
    "string_series"
   ]
  },
  {
   "cell_type": "code",
   "execution_count": 61,
   "id": "624deb00",
   "metadata": {},
   "outputs": [
    {
     "data": {
      "text/plain": [
       "0     True\n",
       "1    False\n",
       "2    False\n",
       "3    False\n",
       "4    False\n",
       "dtype: bool"
      ]
     },
     "execution_count": 61,
     "metadata": {},
     "output_type": "execute_result"
    }
   ],
   "source": [
    "string_series.str.contains('1')"
   ]
  },
  {
   "cell_type": "code",
   "execution_count": 62,
   "id": "1780ee2d",
   "metadata": {},
   "outputs": [
    {
     "data": {
      "text/plain": [
       "0    DAY1\n",
       "1    DAY2\n",
       "2    DAY3\n",
       "3    DAY4\n",
       "4    DAY5\n",
       "dtype: object"
      ]
     },
     "execution_count": 62,
     "metadata": {},
     "output_type": "execute_result"
    }
   ],
   "source": [
    "string_series.str.upper()"
   ]
  },
  {
   "cell_type": "code",
   "execution_count": 63,
   "id": "8caaefb7",
   "metadata": {},
   "outputs": [
    {
     "data": {
      "text/plain": [
       "0     True\n",
       "1    False\n",
       "2    False\n",
       "3    False\n",
       "4    False\n",
       "dtype: bool"
      ]
     },
     "execution_count": 63,
     "metadata": {},
     "output_type": "execute_result"
    }
   ],
   "source": [
    "# to combine two string we have to .str again\n",
    "string_series.str.upper().str.contains('DAY1')"
   ]
  },
  {
   "cell_type": "code",
   "execution_count": 64,
   "id": "f1f8b82c",
   "metadata": {},
   "outputs": [
    {
     "data": {
      "text/plain": [
       "0    1\n",
       "1    2\n",
       "2    3\n",
       "3    4\n",
       "4    5\n",
       "dtype: int32"
      ]
     },
     "execution_count": 64,
     "metadata": {},
     "output_type": "execute_result"
    }
   ],
   "source": [
    "string_series.str.strip('day').astype('int')"
   ]
  },
  {
   "cell_type": "code",
   "execution_count": 65,
   "id": "9fffec11",
   "metadata": {},
   "outputs": [
    {
     "data": {
      "text/plain": [
       "0    ay\n",
       "1    ay\n",
       "2    ay\n",
       "3    ay\n",
       "4    ay\n",
       "dtype: object"
      ]
     },
     "execution_count": 65,
     "metadata": {},
     "output_type": "execute_result"
    }
   ],
   "source": [
    "string_series.str[1:3]"
   ]
  },
  {
   "cell_type": "code",
   "execution_count": 66,
   "id": "bdba78cd",
   "metadata": {},
   "outputs": [
    {
     "data": {
      "text/html": [
       "<div>\n",
       "<style scoped>\n",
       "    .dataframe tbody tr th:only-of-type {\n",
       "        vertical-align: middle;\n",
       "    }\n",
       "\n",
       "    .dataframe tbody tr th {\n",
       "        vertical-align: top;\n",
       "    }\n",
       "\n",
       "    .dataframe thead th {\n",
       "        text-align: right;\n",
       "    }\n",
       "</style>\n",
       "<table border=\"1\" class=\"dataframe\">\n",
       "  <thead>\n",
       "    <tr style=\"text-align: right;\">\n",
       "      <th></th>\n",
       "      <th>0</th>\n",
       "    </tr>\n",
       "  </thead>\n",
       "  <tbody>\n",
       "    <tr>\n",
       "      <th>0</th>\n",
       "      <td>day1</td>\n",
       "    </tr>\n",
       "    <tr>\n",
       "      <th>1</th>\n",
       "      <td>day2</td>\n",
       "    </tr>\n",
       "    <tr>\n",
       "      <th>2</th>\n",
       "      <td>day3</td>\n",
       "    </tr>\n",
       "    <tr>\n",
       "      <th>3</th>\n",
       "      <td>day4</td>\n",
       "    </tr>\n",
       "    <tr>\n",
       "      <th>4</th>\n",
       "      <td>day5</td>\n",
       "    </tr>\n",
       "  </tbody>\n",
       "</table>\n",
       "</div>"
      ],
      "text/plain": [
       "      0\n",
       "0  day1\n",
       "1  day2\n",
       "2  day3\n",
       "3  day4\n",
       "4  day5"
      ]
     },
     "execution_count": 66,
     "metadata": {},
     "output_type": "execute_result"
    }
   ],
   "source": [
    "string_series.str.split(' ',expand =True)"
   ]
  },
  {
   "cell_type": "code",
   "execution_count": 67,
   "id": "27421e77",
   "metadata": {},
   "outputs": [],
   "source": [
    "#aggregrate numerical series\n"
   ]
  },
  {
   "cell_type": "code",
   "execution_count": 68,
   "id": "0c9d2448",
   "metadata": {},
   "outputs": [
    {
     "data": {
      "text/plain": [
       "0    day0\n",
       "1    day0\n",
       "2    day2\n",
       "3    day2\n",
       "4    day4\n",
       "dtype: object"
      ]
     },
     "execution_count": 68,
     "metadata": {},
     "output_type": "execute_result"
    }
   ],
   "source": [
    "#categorial series aggregration \n",
    "string_series2 = pd.Series(['day0','day0','day2','day2','day4'])\n",
    "string_series2"
   ]
  },
  {
   "cell_type": "code",
   "execution_count": 69,
   "id": "53b3f214",
   "metadata": {},
   "outputs": [
    {
     "data": {
      "text/plain": [
       "array(['day0', 'day2', 'day4'], dtype=object)"
      ]
     },
     "execution_count": 69,
     "metadata": {},
     "output_type": "execute_result"
    }
   ],
   "source": [
    "string_series2.unique()"
   ]
  },
  {
   "cell_type": "code",
   "execution_count": 70,
   "id": "d58a64e7",
   "metadata": {},
   "outputs": [
    {
     "data": {
      "text/plain": [
       "3"
      ]
     },
     "execution_count": 70,
     "metadata": {},
     "output_type": "execute_result"
    }
   ],
   "source": [
    "string_series2.nunique()"
   ]
  },
  {
   "cell_type": "code",
   "execution_count": 71,
   "id": "7c746014",
   "metadata": {
    "scrolled": true
   },
   "outputs": [
    {
     "data": {
      "text/plain": [
       "day0    2\n",
       "day2    2\n",
       "day4    1\n",
       "Name: count, dtype: int64"
      ]
     },
     "execution_count": 71,
     "metadata": {},
     "output_type": "execute_result"
    }
   ],
   "source": [
    "string_series2.value_counts()"
   ]
  },
  {
   "cell_type": "code",
   "execution_count": 72,
   "id": "952be4b1",
   "metadata": {
    "scrolled": true
   },
   "outputs": [
    {
     "data": {
      "text/plain": [
       "day0    0.4\n",
       "day2    0.4\n",
       "day4    0.2\n",
       "Name: proportion, dtype: float64"
      ]
     },
     "execution_count": 72,
     "metadata": {},
     "output_type": "execute_result"
    }
   ],
   "source": [
    "string_series2.value_counts(normalize = True)"
   ]
  },
  {
   "cell_type": "code",
   "execution_count": 73,
   "id": "2d11a109",
   "metadata": {},
   "outputs": [
    {
     "data": {
      "text/plain": [
       "0   NaN\n",
       "1   NaN\n",
       "2   NaN\n",
       "3   NaN\n",
       "4   NaN\n",
       "dtype: float64"
      ]
     },
     "execution_count": 73,
     "metadata": {},
     "output_type": "execute_result"
    }
   ],
   "source": [
    "#missing data's and handling them\n",
    "#can't convert NaN into interger\n",
    "my_series2 = pd.Series([np.NaN] * 5)\n",
    "my_series2"
   ]
  },
  {
   "cell_type": "code",
   "execution_count": 74,
   "id": "7ff8a212",
   "metadata": {},
   "outputs": [
    {
     "data": {
      "text/plain": [
       "5"
      ]
     },
     "execution_count": 74,
     "metadata": {},
     "output_type": "execute_result"
    }
   ],
   "source": [
    "my_series2.isna().count()"
   ]
  },
  {
   "cell_type": "code",
   "execution_count": 75,
   "id": "1b87b220",
   "metadata": {},
   "outputs": [
    {
     "data": {
      "text/plain": [
       "0    True\n",
       "1    True\n",
       "2    True\n",
       "3    True\n",
       "4    True\n",
       "dtype: bool"
      ]
     },
     "execution_count": 75,
     "metadata": {},
     "output_type": "execute_result"
    }
   ],
   "source": [
    "my_series2.isna()"
   ]
  },
  {
   "cell_type": "code",
   "execution_count": 76,
   "id": "fa629029",
   "metadata": {},
   "outputs": [
    {
     "data": {
      "text/plain": [
       "Series([], Name: count, dtype: int64)"
      ]
     },
     "execution_count": 76,
     "metadata": {},
     "output_type": "execute_result"
    }
   ],
   "source": [
    "my_series2.value_counts()"
   ]
  },
  {
   "cell_type": "code",
   "execution_count": 77,
   "id": "e8209d4c",
   "metadata": {
    "scrolled": true
   },
   "outputs": [
    {
     "data": {
      "text/plain": [
       "NaN    5\n",
       "Name: count, dtype: int64"
      ]
     },
     "execution_count": 77,
     "metadata": {},
     "output_type": "execute_result"
    }
   ],
   "source": [
    "my_series2.value_counts(dropna=False)"
   ]
  },
  {
   "cell_type": "code",
   "execution_count": 78,
   "id": "e6f572b6",
   "metadata": {},
   "outputs": [
    {
     "data": {
      "text/plain": [
       "0    <NA>\n",
       "1    <NA>\n",
       "2    <NA>\n",
       "3    <NA>\n",
       "4    <NA>\n",
       "dtype: object"
      ]
     },
     "execution_count": 78,
     "metadata": {},
     "output_type": "execute_result"
    }
   ],
   "source": [
    "my_series2 = pd.Series([pd.NA] * 5)\n",
    "my_series2"
   ]
  },
  {
   "cell_type": "code",
   "execution_count": 79,
   "id": "99620d3c",
   "metadata": {},
   "outputs": [
    {
     "data": {
      "text/plain": [
       "0    <NA>\n",
       "1    <NA>\n",
       "2    <NA>\n",
       "3    <NA>\n",
       "4    <NA>\n",
       "dtype: Int64"
      ]
     },
     "execution_count": 79,
     "metadata": {},
     "output_type": "execute_result"
    }
   ],
   "source": [
    "#we can convert NA into integer but not NaN\n",
    "my_series2.astype('Int64')"
   ]
  },
  {
   "cell_type": "code",
   "execution_count": 80,
   "id": "70deda65",
   "metadata": {},
   "outputs": [],
   "source": [
    "my_series3 = pd.Series(range(5))"
   ]
  },
  {
   "cell_type": "code",
   "execution_count": 81,
   "id": "316b5352",
   "metadata": {},
   "outputs": [],
   "source": [
    "my_series3.loc[1:2] = pd.NA"
   ]
  },
  {
   "cell_type": "code",
   "execution_count": 82,
   "id": "16ce53d7",
   "metadata": {},
   "outputs": [
    {
     "data": {
      "text/plain": [
       "0    0.0\n",
       "1    NaN\n",
       "2    NaN\n",
       "3    3.0\n",
       "4    4.0\n",
       "dtype: float64"
      ]
     },
     "execution_count": 82,
     "metadata": {},
     "output_type": "execute_result"
    }
   ],
   "source": [
    "#bug in pd.NA , its still showing NaN\n",
    "my_series3"
   ]
  },
  {
   "cell_type": "code",
   "execution_count": 83,
   "id": "c18678a3",
   "metadata": {},
   "outputs": [
    {
     "data": {
      "text/plain": [
       "NaN    2\n",
       "0.0    1\n",
       "3.0    1\n",
       "4.0    1\n",
       "Name: count, dtype: int64"
      ]
     },
     "execution_count": 83,
     "metadata": {},
     "output_type": "execute_result"
    }
   ],
   "source": [
    "my_series3.value_counts(dropna=False)"
   ]
  },
  {
   "cell_type": "code",
   "execution_count": 84,
   "id": "db5d3262",
   "metadata": {
    "scrolled": true
   },
   "outputs": [
    {
     "data": {
      "text/plain": [
       "0    0.000000\n",
       "1    2.333333\n",
       "2    2.333333\n",
       "3    3.000000\n",
       "4    4.000000\n",
       "dtype: float64"
      ]
     },
     "execution_count": 84,
     "metadata": {},
     "output_type": "execute_result"
    }
   ],
   "source": [
    "my_series3.fillna(my_series3.mean())"
   ]
  },
  {
   "cell_type": "code",
   "execution_count": 85,
   "id": "687ac571",
   "metadata": {
    "scrolled": true
   },
   "outputs": [
    {
     "data": {
      "text/plain": [
       "day1    0\n",
       "day2    1\n",
       "day3    2\n",
       "day4    3\n",
       "day5    4\n",
       "dtype: int64"
      ]
     },
     "execution_count": 85,
     "metadata": {},
     "output_type": "execute_result"
    }
   ],
   "source": [
    "my_series.fillna(0)"
   ]
  },
  {
   "cell_type": "code",
   "execution_count": 86,
   "id": "eafcc57f",
   "metadata": {},
   "outputs": [
    {
     "data": {
      "text/plain": [
       "day1    0\n",
       "day2    1\n",
       "day3    2\n",
       "day4    3\n",
       "day5    4\n",
       "dtype: int64"
      ]
     },
     "execution_count": 86,
     "metadata": {},
     "output_type": "execute_result"
    }
   ],
   "source": [
    "my_series.dropna()"
   ]
  },
  {
   "cell_type": "code",
   "execution_count": 87,
   "id": "15bd1e36",
   "metadata": {
    "scrolled": true
   },
   "outputs": [
    {
     "data": {
      "text/plain": [
       "0    0\n",
       "1    1\n",
       "2    2\n",
       "3    3\n",
       "4    4\n",
       "dtype: int32"
      ]
     },
     "execution_count": 87,
     "metadata": {},
     "output_type": "execute_result"
    }
   ],
   "source": [
    "my_series.dropna().reset_index(drop=True).astype('int')"
   ]
  },
  {
   "cell_type": "code",
   "execution_count": 88,
   "id": "89361c52",
   "metadata": {},
   "outputs": [],
   "source": [
    "#.appply() method\n",
    "#this the first method how you can use\n",
    "\n",
    "def discount(price):\n",
    "    if price>20:\n",
    "        return round(price*0.9,2)\n",
    "    return price"
   ]
  },
  {
   "cell_type": "code",
   "execution_count": 89,
   "id": "866d80a3",
   "metadata": {},
   "outputs": [
    {
     "data": {
      "text/plain": [
       "0     3.99\n",
       "1     5.99\n",
       "2    22.99\n",
       "3     7.99\n",
       "4    33.99\n",
       "dtype: float64"
      ]
     },
     "execution_count": 89,
     "metadata": {},
     "output_type": "execute_result"
    }
   ],
   "source": [
    "clean_wholesale = pd.Series(['3.99','5.99','22.99','7.99','33.99']).astype('float')\n",
    "clean_wholesale"
   ]
  },
  {
   "cell_type": "code",
   "execution_count": 90,
   "id": "33cf9091",
   "metadata": {},
   "outputs": [
    {
     "data": {
      "text/plain": [
       "0     3.99\n",
       "1     5.99\n",
       "2    20.69\n",
       "3     7.99\n",
       "4    30.59\n",
       "dtype: float64"
      ]
     },
     "execution_count": 90,
     "metadata": {},
     "output_type": "execute_result"
    }
   ],
   "source": [
    "clean_wholesale.apply(discount)"
   ]
  },
  {
   "cell_type": "code",
   "execution_count": 91,
   "id": "9d899ea7",
   "metadata": {},
   "outputs": [
    {
     "data": {
      "text/plain": [
       "0     3.99\n",
       "1     5.99\n",
       "2    20.69\n",
       "3     7.99\n",
       "4    30.59\n",
       "dtype: float64"
      ]
     },
     "execution_count": 91,
     "metadata": {},
     "output_type": "execute_result"
    }
   ],
   "source": [
    "#this the second method with use of lambda\n",
    "clean_wholesale.apply(lambda x: round(x*0.9,2) if x>20 else x)"
   ]
  },
  {
   "cell_type": "code",
   "execution_count": 92,
   "id": "1566a007",
   "metadata": {
    "scrolled": true
   },
   "outputs": [
    {
     "data": {
      "text/plain": [
       "0    day0\n",
       "1    day0\n",
       "2    day2\n",
       "3    day2\n",
       "4    day4\n",
       "dtype: object"
      ]
     },
     "execution_count": 92,
     "metadata": {},
     "output_type": "execute_result"
    }
   ],
   "source": [
    "string_series2"
   ]
  },
  {
   "cell_type": "code",
   "execution_count": 95,
   "id": "a4babcd6",
   "metadata": {},
   "outputs": [],
   "source": [
    "def search(string,looking_for):\n",
    "    if looking_for in string:\n",
    "        return 'found it'\n",
    "    return 'nope'"
   ]
  },
  {
   "cell_type": "code",
   "execution_count": 109,
   "id": "66354d17",
   "metadata": {},
   "outputs": [
    {
     "data": {
      "text/plain": [
       "0        nope\n",
       "1        nope\n",
       "2    found it\n",
       "3    found it\n",
       "4        nope\n",
       "dtype: object"
      ]
     },
     "execution_count": 109,
     "metadata": {},
     "output_type": "execute_result"
    }
   ],
   "source": [
    "string_series2.apply(search, args ='2')"
   ]
  },
  {
   "cell_type": "code",
   "execution_count": 113,
   "id": "f05a8259",
   "metadata": {},
   "outputs": [
    {
     "data": {
      "text/plain": [
       "0        nope\n",
       "1        nope\n",
       "2    found it\n",
       "3    found it\n",
       "4        nope\n",
       "dtype: object"
      ]
     },
     "execution_count": 113,
     "metadata": {},
     "output_type": "execute_result"
    }
   ],
   "source": [
    "#.where()\n",
    "string_series2.where(string_series2.str.contains('2'),'nope').where(~string_series2.str.contains('2'), 'found it')"
   ]
  },
  {
   "cell_type": "code",
   "execution_count": 118,
   "id": "1e1f7fde",
   "metadata": {},
   "outputs": [
    {
     "data": {
      "text/plain": [
       "0        nope\n",
       "1        nope\n",
       "2    found it\n",
       "3    found it\n",
       "4        nope\n",
       "dtype: object"
      ]
     },
     "execution_count": 118,
     "metadata": {},
     "output_type": "execute_result"
    }
   ],
   "source": [
    "#ye sbb backchodi na hi isiliye hum np.where use krtay hai \n",
    "pd.Series(np.where(string_series2.str.contains('2'), 'found it','nope'))"
   ]
  }
 ],
 "metadata": {
  "kernelspec": {
   "display_name": "Python 3 (ipykernel)",
   "language": "python",
   "name": "python3"
  },
  "language_info": {
   "codemirror_mode": {
    "name": "ipython",
    "version": 3
   },
   "file_extension": ".py",
   "mimetype": "text/x-python",
   "name": "python",
   "nbconvert_exporter": "python",
   "pygments_lexer": "ipython3",
   "version": "3.11.5"
  }
 },
 "nbformat": 4,
 "nbformat_minor": 5
}
